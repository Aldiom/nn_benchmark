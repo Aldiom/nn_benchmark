{
 "cells": [
  {
   "cell_type": "code",
   "execution_count": 1,
   "metadata": {},
   "outputs": [],
   "source": [
    "import tensorflow as tf\n",
    "import numpy as np\n",
    "\n",
    "model = tf.keras.models.load_model('../models/VGG16bn.h5', compile=False)\n",
    "model = model.layers[-1]"
   ]
  },
  {
   "cell_type": "code",
   "execution_count": 9,
   "metadata": {},
   "outputs": [],
   "source": [
    "netin = tf.keras.Input((224,224,3), dtype='uint8')\n",
    "x = tf.cast(netin, 'float32')\n",
    "x = tf.keras.applications.mobilenet_v2.preprocess_input(x) # !!!\n",
    "#x = tf.nn.bias_add(x, [-123.68, -116.779, -103.939])\n",
    "#x = tf.keras.applications.imagenet_utils.preprocess_input(x, mode='torch')\n",
    "x = pruned_model(x)\n",
    "model_lr = tf.keras.Model(inputs=netin, outputs=x)"
   ]
  },
  {
   "cell_type": "code",
   "execution_count": 3,
   "metadata": {},
   "outputs": [],
   "source": [
    "def bn_sparsity_train(layer):\n",
    "    if isinstance(layer, tf.keras.layers.BatchNormalization):\n",
    "        config = layer.get_config()\n",
    "        config['gamma_regularizer'] = tf.keras.regularizers.l1(1e-3)\n",
    "        newlayer = layer.__class__.from_config(config)\n",
    "        return newlayer\n",
    "    elif isinstance(layer, tf.keras.layers.Conv2D):\n",
    "        newlayer = layer.__class__.from_config(layer.get_config())\n",
    "        newlayer.kernel_regularizer = tf.keras.regularizers.l2(1e-4)\n",
    "        return newlayer\n",
    "    return layer.__class__.from_config(layer.get_config())"
   ]
  },
  {
   "cell_type": "code",
   "execution_count": 4,
   "metadata": {},
   "outputs": [],
   "source": [
    "import imagenet\n",
    "train_ds = imagenet.load_ds([224, 224])"
   ]
  },
  {
   "cell_type": "code",
   "execution_count": 5,
   "metadata": {},
   "outputs": [],
   "source": [
    "train_ds = train_ds.map(lambda x,y: (tf.keras.applications.imagenet_utils.preprocess_input(x, mode='torch'),\n",
    "                                     y), num_parallel_calls=tf.data.experimental.AUTOTUNE)\n",
    "train_ds = train_ds.cache()\n",
    "train_ds = train_ds.shuffle(5000).repeat()"
   ]
  },
  {
   "cell_type": "code",
   "execution_count": 9,
   "metadata": {},
   "outputs": [],
   "source": [
    "prune_model.compile(loss=tf.keras.losses.sparse_categorical_crossentropy, \n",
    "                    metrics=['accuracy'],\n",
    "                    optimizer=tf.keras.optimizers.SGD(1e-3, momentum=0.9, nesterov=True))"
   ]
  },
  {
   "cell_type": "code",
   "execution_count": 10,
   "metadata": {
    "scrolled": true
   },
   "outputs": [
    {
     "name": "stdout",
     "output_type": "stream",
     "text": [
      "Epoch 5/5\n",
      "3125/3125 [==============================] - 228s 73ms/step - loss: 27.0356 - accuracy: 0.9963\n"
     ]
    },
    {
     "data": {
      "text/plain": [
       "<tensorflow.python.keras.callbacks.History at 0x7fa62c0b4dd8>"
      ]
     },
     "execution_count": 10,
     "metadata": {},
     "output_type": "execute_result"
    }
   ],
   "source": [
    "b_sz = 64\n",
    "ds = train_ds.batch(b_sz)\n",
    "prune_model.fit(ds, epochs=5, initial_epoch=0, steps_per_epoch=50000//b_sz) "
   ]
  },
  {
   "cell_type": "code",
   "execution_count": 19,
   "metadata": {},
   "outputs": [
    {
     "name": "stdout",
     "output_type": "stream",
     "text": [
      "Model: \"vgg16_bn\"\n",
      "_________________________________________________________________\n",
      "Layer (type)                 Output Shape              Param #   \n",
      "=================================================================\n",
      "input_1 (InputLayer)         [(None, 224, 224, 3)]     0         \n",
      "_________________________________________________________________\n",
      "block1_conv1 (Conv2D)        (None, 224, 224, 17)      476       \n",
      "_________________________________________________________________\n",
      "block1_bn1 (BatchNormalizati (None, 224, 224, 17)      68        \n",
      "_________________________________________________________________\n",
      "block1_relu1 (Activation)    (None, 224, 224, 17)      0         \n",
      "_________________________________________________________________\n",
      "block1_conv2 (Conv2D)        (None, 224, 224, 46)      7084      \n",
      "_________________________________________________________________\n",
      "block1_bn2 (BatchNormalizati (None, 224, 224, 46)      184       \n",
      "_________________________________________________________________\n",
      "block1_relu2 (Activation)    (None, 224, 224, 46)      0         \n",
      "_________________________________________________________________\n",
      "block1_pool (MaxPooling2D)   (None, 112, 112, 46)      0         \n",
      "_________________________________________________________________\n",
      "block2_conv1 (Conv2D)        (None, 112, 112, 75)      31125     \n",
      "_________________________________________________________________\n",
      "block2_bn1 (BatchNormalizati (None, 112, 112, 75)      300       \n",
      "_________________________________________________________________\n",
      "block2_relu1 (Activation)    (None, 112, 112, 75)      0         \n",
      "_________________________________________________________________\n",
      "block2_conv2 (Conv2D)        (None, 112, 112, 107)     72332     \n",
      "_________________________________________________________________\n",
      "block2_bn2 (BatchNormalizati (None, 112, 112, 107)     428       \n",
      "_________________________________________________________________\n",
      "block2_relu2 (Activation)    (None, 112, 112, 107)     0         \n",
      "_________________________________________________________________\n",
      "block2_pool (MaxPooling2D)   (None, 56, 56, 107)       0         \n",
      "_________________________________________________________________\n",
      "block3_conv1 (Conv2D)        (None, 56, 56, 150)       144600    \n",
      "_________________________________________________________________\n",
      "block3_bn1 (BatchNormalizati (None, 56, 56, 150)       600       \n",
      "_________________________________________________________________\n",
      "block3_relu1 (Activation)    (None, 56, 56, 150)       0         \n",
      "_________________________________________________________________\n",
      "block3_conv2 (Conv2D)        (None, 56, 56, 171)       231021    \n",
      "_________________________________________________________________\n",
      "block3_bn2 (BatchNormalizati (None, 56, 56, 171)       684       \n",
      "_________________________________________________________________\n",
      "block3_relu2 (Activation)    (None, 56, 56, 171)       0         \n",
      "_________________________________________________________________\n",
      "block3_conv3 (Conv2D)        (None, 56, 56, 232)       357280    \n",
      "_________________________________________________________________\n",
      "block3_bn3 (BatchNormalizati (None, 56, 56, 232)       928       \n",
      "_________________________________________________________________\n",
      "block3_relu3 (Activation)    (None, 56, 56, 232)       0         \n",
      "_________________________________________________________________\n",
      "block3_pool (MaxPooling2D)   (None, 28, 28, 232)       0         \n",
      "_________________________________________________________________\n",
      "block4_conv1 (Conv2D)        (None, 28, 28, 389)       812621    \n",
      "_________________________________________________________________\n",
      "block4_bn1 (BatchNormalizati (None, 28, 28, 389)       1556      \n",
      "_________________________________________________________________\n",
      "block4_relu1 (Activation)    (None, 28, 28, 389)       0         \n",
      "_________________________________________________________________\n",
      "block4_conv2 (Conv2D)        (None, 28, 28, 395)       1383290   \n",
      "_________________________________________________________________\n",
      "block4_bn2 (BatchNormalizati (None, 28, 28, 395)       1580      \n",
      "_________________________________________________________________\n",
      "block4_relu2 (Activation)    (None, 28, 28, 395)       0         \n",
      "_________________________________________________________________\n",
      "block4_conv3 (Conv2D)        (None, 28, 28, 390)       1386840   \n",
      "_________________________________________________________________\n",
      "block4_bn3 (BatchNormalizati (None, 28, 28, 390)       1560      \n",
      "_________________________________________________________________\n",
      "block4_relu3 (Activation)    (None, 28, 28, 390)       0         \n",
      "_________________________________________________________________\n",
      "block4_pool (MaxPooling2D)   (None, 14, 14, 390)       0         \n",
      "_________________________________________________________________\n",
      "block5_conv1 (Conv2D)        (None, 14, 14, 469)       1646659   \n",
      "_________________________________________________________________\n",
      "block5_bn1 (BatchNormalizati (None, 14, 14, 469)       1876      \n",
      "_________________________________________________________________\n",
      "block5_relu1 (Activation)    (None, 14, 14, 469)       0         \n",
      "_________________________________________________________________\n",
      "block5_conv2 (Conv2D)        (None, 14, 14, 428)       1807016   \n",
      "_________________________________________________________________\n",
      "block5_bn2 (BatchNormalizati (None, 14, 14, 428)       1712      \n",
      "_________________________________________________________________\n",
      "block5_relu2 (Activation)    (None, 14, 14, 428)       0         \n",
      "_________________________________________________________________\n",
      "block5_conv3 (Conv2D)        (None, 14, 14, 512)       1972736   \n",
      "_________________________________________________________________\n",
      "block5_bn3 (BatchNormalizati (None, 14, 14, 512)       2048      \n",
      "_________________________________________________________________\n",
      "block5_relu3 (Activation)    (None, 14, 14, 512)       0         \n",
      "_________________________________________________________________\n",
      "block5_pool (MaxPooling2D)   (None, 7, 7, 512)         0         \n",
      "_________________________________________________________________\n",
      "flatten (Flatten)            (None, 25088)             0         \n",
      "_________________________________________________________________\n",
      "fc1 (Dense)                  (None, 4096)              102764544 \n",
      "_________________________________________________________________\n",
      "drop1 (Dropout)              (None, 4096)              0         \n",
      "_________________________________________________________________\n",
      "fc2 (Dense)                  (None, 4096)              16781312  \n",
      "_________________________________________________________________\n",
      "drop2 (Dropout)              (None, 4096)              0         \n",
      "_________________________________________________________________\n",
      "predictions (Dense)          (None, 1000)              4097000   \n",
      "=================================================================\n",
      "Total params: 133,509,460\n",
      "Trainable params: 133,502,698\n",
      "Non-trainable params: 6,762\n",
      "_________________________________________________________________\n"
     ]
    }
   ],
   "source": [
    "pruned_model = apply_pruning(prune_model, 0.2)\n",
    "pruned_model.summary()"
   ]
  },
  {
   "cell_type": "code",
   "execution_count": 7,
   "metadata": {},
   "outputs": [],
   "source": [
    "inp = tf.keras.Input((224,224,3))\n",
    "x = tf.cast(inp, 'float32')\n",
    "#x = tf.keras.applications.mobilenet_v2.preprocess_input(x)\n",
    "x = tf.keras.applications.imagenet_utils.preprocess_input(x, mode='torch')\n",
    "x = pruned_model(x)\n",
    "pruned_model = tf.keras.Model(inputs=inp, outputs=x)\n",
    "\n",
    "pruned_model.save('vgg16_pruned20')"
   ]
  }
 ],
 "metadata": {
  "kernelspec": {
   "display_name": "Python 3 (TF)",
   "language": "python",
   "name": "tensorflow"
  },
  "language_info": {
   "codemirror_mode": {
    "name": "ipython",
    "version": 3
   },
   "file_extension": ".py",
   "mimetype": "text/x-python",
   "name": "python",
   "nbconvert_exporter": "python",
   "pygments_lexer": "ipython3",
   "version": "3.5.2"
  }
 },
 "nbformat": 4,
 "nbformat_minor": 2
}
